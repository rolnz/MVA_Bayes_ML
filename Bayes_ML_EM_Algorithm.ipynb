{
 "cells": [
  {
   "cell_type": "markdown",
   "metadata": {
    "id": "KqVh9ajIZDHk"
   },
   "source": [
    "# **Data Augmentation for Support Vector Machines**"
   ]
  },
  {
   "cell_type": "markdown",
   "metadata": {
    "id": "9sZ3ETysYJ4r"
   },
   "source": [
    "  In this small notebook, we want to test an SVM algorithm with Data augmentation, as described in the paper Data Augmentation for Support Vector Machines, written by N.polson and S. L. Scott in 2011. \n",
    "A source is  https://projecteuclid.org/journals/bayesian-analysis/volume-6/issue-1/Data-augmentation-for-support-vector-machines/10.1214/11-BA601.full. \n",
    "At first we will display a point estimation by EM and related algorithm, then we will use MCMC techniques for SVM."
   ]
  },
  {
   "cell_type": "markdown",
   "metadata": {
    "id": "v8DiFEc6Zwrf"
   },
   "source": [
    "Here we import some packages for the project and some packages for datasets."
   ]
  },
  {
   "cell_type": "code",
   "execution_count": 21,
   "metadata": {
    "id": "k47ewqMUeCVa"
   },
   "outputs": [],
   "source": [
    "import numpy as np\n",
    "import matplotlib.pyplot as plt\n",
    "import pandas as pd\n",
    "\n",
    "from scipy.integrate import quad    \n",
    "from scipy.special import gamma\n",
    "from sklearn.model_selection import train_test_split\n",
    "from sklearn.svm import SVC\n",
    "from sklearn import datasets\n",
    "from sklearn.preprocessing import StandardScaler\n"
   ]
  },
  {
   "cell_type": "markdown",
   "metadata": {
    "id": "vM7_v-qDWQH_"
   },
   "source": [
    "Now we can load some datasets for SVM : an example is breast cancer dataset (Source : https://scikit-learn.org/stable/datasets/toy_dataset.html) where we want to predict the class of the cancer : malignant (1) or benign (0).\n",
    "We normalisee the dataset with the z-core"
   ]
  },
  {
   "cell_type": "code",
   "execution_count": 22,
   "metadata": {
    "id": "2RKNAcfEWinY"
   },
   "outputs": [],
   "source": [
    "#dataset with two classes for breast cancer\n",
    "dataset_cancer = datasets.load_breast_cancer()\n",
    "features_names = dataset_cancer.feature_names\n",
    "non_normalized_dataframe_cancer = pd.DataFrame(dataset_cancer.data, \n",
    "                                columns = dataset_cancer.feature_names)\n",
    "dataframe_cancer = pd.DataFrame(StandardScaler().fit_transform(non_normalized_dataframe_cancer), \n",
    "                      columns =  dataset_cancer.feature_names)\n",
    "dataframe_cancer['target'] = pd.Series(dataset_cancer.target)\n"
   ]
  },
  {
   "cell_type": "markdown",
   "metadata": {
    "id": "1k00ZXRmZOTg"
   },
   "source": [
    "We convert the dataset into a numpy dataset."
   ]
  },
  {
   "cell_type": "code",
   "execution_count": 23,
   "metadata": {
    "id": "pSN4LvQNZTbQ"
   },
   "outputs": [],
   "source": [
    "#We tranform the dataset into a numpy array.\n",
    "X0 = dataframe_cancer[features_names].to_numpy()\n",
    "\n",
    "#We add column for constant term.\n",
    "n_lines0, n_columns0 = np.shape(X0)\n",
    "X = np.append(X0, [[1] for i in range(n_lines0)], axis = 1) \n",
    "\n",
    "#y takes from -1,1 for the algorithm.\n",
    "n_lines, n_colums = np.shape(X)\n",
    "y = 2*dataframe_cancer['target'].to_numpy() - np.ones(n_lines) \n"
   ]
  },
  {
   "cell_type": "markdown",
   "metadata": {
    "id": "EJ3Weh5Acn_w"
   },
   "source": [
    "Now, separate the dataset into a train set (75%) and a test set (25%)"
   ]
  },
  {
   "cell_type": "code",
   "execution_count": 24,
   "metadata": {
    "id": "eyCAmIioctjK"
   },
   "outputs": [],
   "source": [
    "X_train, X_test, y_train, y_test = train_test_split(X, y, test_size=0.25, \n",
    "                                                    random_state=42)\n"
   ]
  },
  {
   "cell_type": "markdown",
   "metadata": {
    "id": "oBxJiJ_FkLmU"
   },
   "source": [
    "We write some useful functions for our algorithm.\n",
    "All the differents formulas are noted in the paper.\n"
   ]
  },
  {
   "cell_type": "code",
   "execution_count": 25,
   "metadata": {
    "id": "ETyaQFpQh4ZW"
   },
   "outputs": [],
   "source": [
    "def parameters(x, y):\n",
    "    n, k = np.shape(x)\n",
    "    sigma = np.array([np.std(x[:][j]) for j in range(k)])\n",
    "    big_sigma = np.diag(np.square(sigma))\n",
    "    bold_X = np.array([y[i]*x[i] for i in range(n)])\n",
    "    return (sigma,  big_sigma, bold_X)\n",
    "\n",
    "def E_Step(nu, sigma, x, y, beta):\n",
    "    n, k = np.shape(x)\n",
    "    lambda_g = np.array([np.abs(1/(1-(y[i]*np.dot(x[i].T, beta)))) \n",
    "              for i in range(n)])\n",
    "    big_lambda_g = np.diag(lambda_g)\n",
    "    omega_g = np.diag([nu * sigma[j] * np.abs(1/beta[j]) for j in range(k)])\n",
    "    return (lambda_g, big_lambda_g, omega_g)\n",
    "\n",
    "def CVM_Step(omega_g, lambda_g, big_lambda_g, big_sigma, bold_X, x, y, nu):\n",
    "    n, k = np.shape(x)\n",
    "    beta = np.dot(np.linalg.inv((nu**(-2) * np.dot(np.linalg.inv(big_sigma), \n",
    "          omega_g)) + np.dot(bold_X.T, np.dot(big_lambda_g, bold_X))),\n",
    "          np.dot(bold_X.T, np.ones(n)+ lambda_g))\n",
    "    return beta\n",
    "\n",
    "def CME_Step(sigma, alpha, beta, x, y, b_nu, a_nu, nu):\n",
    "    n, k = np.shape(x)\n",
    "    numerator = b_nu + np.sum([(np.abs(beta[j]/sigma[j]))**alpha for j in range(k)])\n",
    "    denominator = k/alpha + a_nu - 1\n",
    "    return (numerator/denominator)**(-1/alpha)\n"
   ]
  },
  {
   "cell_type": "markdown",
   "metadata": {
    "id": "ChI4_sFP_PYr"
   },
   "source": [
    "Now we build ours algorithms of EM and ECME."
   ]
  },
  {
   "cell_type": "code",
   "execution_count": 26,
   "metadata": {
    "id": "JFgnnNMDNAd7"
   },
   "outputs": [],
   "source": [
    "def EM_SVM_algorithm(x, y, nu, beta, epsilon, n_max_step):\n",
    "    n, k = np.shape(x)\n",
    "    previous_beta = np.array([np.inf for i in range (k)])\n",
    "    (sigma,  big_sigma, X) = parameters(x, y)\n",
    "    step = 0\n",
    "    while (np.linalg.norm(beta-previous_beta) > epsilon) and (step < n_max_step):\n",
    "        previous_beta = beta\n",
    "        lambda_g, big_lambda_g, omega_g = E_Step(nu, sigma, x, y, beta)\n",
    "        beta = CVM_Step(omega_g, lambda_g, big_lambda_g, big_sigma, X, x, y, nu)\n",
    "        step += 1\n",
    "    return (beta)\n",
    "\n",
    "def ECME_SVM_algorithm(x, y, nu, beta, epsilon, alpha, b_nu, a_nu, n_max_step) :\n",
    "    n, k = np.shape(x)\n",
    "    previous_beta = np.array([np.inf for i in range (k)])\n",
    "    previous_nu = np.array([np.inf for i in range (k)])\n",
    "    (sigma,  big_sigma, X) = parameters(x, y)\n",
    "    step = 0\n",
    "    while (max(np.linalg.norm(beta-previous_beta),np.linalg.norm(nu-previous_nu)) \n",
    "         > epsilon) and (step < n_max_step):\n",
    "        previous_beta = beta\n",
    "        previous_nu = nu\n",
    "        lambda_g, big_lambda_g, omega_g = E_Step(nu, sigma, x, y, beta)\n",
    "        beta = CVM_Step(omega_g, lambda_g, big_lambda_g, big_sigma, X, x, y, nu)\n",
    "        nu = CME_Step(sigma, alpha, beta, x, y, b_nu, a_nu, nu)\n",
    "        step += 1\n",
    "    return (beta)\n"
   ]
  },
  {
   "cell_type": "markdown",
   "metadata": {
    "id": "-2rpl-gT8Rv7"
   },
   "source": [
    "We build a small function to get some machine learning results.\n"
   ]
  },
  {
   "cell_type": "code",
   "execution_count": 27,
   "metadata": {
    "id": "oJi3CK8wFoMB"
   },
   "outputs": [],
   "source": [
    "def scores(predict_data, test_data):\n",
    "    n = len(test_data)\n",
    "    n_real_positive = (test_data > 0).sum() # True positive & false negative\n",
    "    n_predicted_positive = (predict_data > 0).sum() #True positive & false positive\n",
    "    n_true_positive = 0 #True positive \n",
    "    for i in range(n):\n",
    "        if (predict_data[i] == 1) and  (test_data[i] == 1) :\n",
    "            n_true_positive +=1\n",
    "    precision = n_true_positive/n_predicted_positive * 100\n",
    "    recall = n_true_positive/n_real_positive * 100\n",
    "    f1_score = (2*recall*precision)/(recall + precision)\n",
    "    return (precision, recall, f1_score)\n"
   ]
  },
  {
   "cell_type": "markdown",
   "metadata": {
    "id": "0PW2XuqwcR4F"
   },
   "source": [
    "Now we can test our algothms and compared them to a standardised python method. In this first test $\\nu = 1$ for EM."
   ]
  },
  {
   "cell_type": "code",
   "execution_count": 28,
   "metadata": {
    "colab": {
     "base_uri": "https://localhost:8080/"
    },
    "id": "3Uf4FLo-8VWT",
    "outputId": "584c964e-51d3-4bb9-da23-9f33d147e0fc"
   },
   "outputs": [
    {
     "name": "stdout",
     "output_type": "stream",
     "text": [
      "precion_EM : 98.80952380952381 , recall_EM : 93.25842696629213 , f1_score_EM : 95.95375722543352\n",
      "precion_ECME : 98.83720930232558 , recall_ECME : 95.50561797752809 , f1_score_ECME : 97.14285714285714\n",
      "precision_sklearn : 98.86363636363636 , recall_sklearn : 97.75280898876404 , f1_score_sklearn : 98.30508474576271\n"
     ]
    }
   ],
   "source": [
    "#Test on cancer data\n",
    "#Some external variables\n",
    "n_max_step = 100\n",
    "epsilon = 1\n",
    "\n",
    "#Some other variables initialized\n",
    "n_row, n_column = np.shape(X_train)\n",
    "beta = 1*np.ones(n_column)\n",
    "nu = 0.01\n",
    "a_nu = 1\n",
    "b_nu = 1\n",
    "alpha = 1\n",
    "\n",
    "#Estimations of betas with the algorithms\n",
    "beta_EM = EM_SVM_algorithm(X_train, y_train, nu, beta, epsilon, n_max_step)\n",
    "beta_ECME = ECME_SVM_algorithm(X_train, y_train, nu, beta, \n",
    "                               epsilon, alpha, b_nu, a_nu, n_max_step)\n",
    "\n",
    "#Test on test data \n",
    "\n",
    "y_pred_EM = np.sign(np.dot(beta_EM,X_test.T))\n",
    "y_pred_ECME = np.sign(np.dot(beta_ECME,X_test.T))\n",
    "precion_EM, recall_EM, f1_score_EM = scores(y_pred_EM, y_test)\n",
    "precion_ECME, recall_ECME, f1_score_ECME = scores(y_pred_ECME, y_test)\n",
    "\n",
    "print('precion_EM :', precion_EM, ', recall_EM :',\n",
    "      recall_EM, ', f1_score_EM :',f1_score_EM)\n",
    "print('precion_ECME :', precion_ECME, ', recall_ECME :',\n",
    "      recall_ECME,', f1_score_ECME :', f1_score_ECME)\n",
    "\n",
    "#Classic SVM \n",
    "svm_model =  SVC(kernel = 'linear')\n",
    "svm_model.fit(X_train, y_train)\n",
    "y_pred_sklearn = svm_model.predict(X_test)\n",
    "precion_sklearn, recall_sklearn, f1_score_sklearn = scores(y_pred_sklearn, \n",
    "                                                           y_test)\n",
    "print('precision_sklearn :', precion_sklearn, ', recall_sklearn :',\n",
    "      recall_sklearn, ', f1_score_sklearn :', f1_score_sklearn)\n"
   ]
  },
  {
   "cell_type": "markdown",
   "metadata": {
    "id": "bTM7YCJfcyCd"
   },
   "source": [
    "We test that for differents value of nu for EM and plot the results."
   ]
  },
  {
   "cell_type": "code",
   "execution_count": 29,
   "metadata": {
    "colab": {
     "base_uri": "https://localhost:8080/",
     "height": 295
    },
    "id": "CbScrZw9crl2",
    "outputId": "a542ea4d-eea6-4082-af6b-753810845401"
   },
   "outputs": [
    {
     "data": {
      "image/png": "[encoded data removed]",
      "text/plain": [
       "<Figure size 432x288 with 1 Axes>"
      ]
     },
     "metadata": {
      "needs_background": "light"
     },
     "output_type": "display_data"
    }
   ],
   "source": [
    "nus = np.array([0.01, 0.05, 0.1, 0.5, 1, 5, 10, 50, 100, 500])\n",
    "n, k = np.shape(X_train)\n",
    "sigma = np.array([np.std(X_train[:][j]) for j in range(k)])\n",
    "normalised_norm = []\n",
    "for nu in nus:\n",
    "    result_beta = EM_SVM_algorithm(X_train, y_train, nu, beta, epsilon, n_max_step)\n",
    "    normalised_beta = [result_beta[j] * sigma[j] for j in range(k)]\n",
    "    normalised_norm.append(np.linalg.norm(normalised_beta))\n",
    "\n",
    "plt.plot(np.log(nus), normalised_norm, color = 'black')\n",
    "plt.xlabel('log(10)(nu)')\n",
    "plt.ylabel('standardized norm of beta')\n",
    "plt.title('Norm of beta as a function of nu')\n",
    "plt.show()\n"
   ]
  },
  {
   "cell_type": "markdown",
   "metadata": {
    "id": "Nf3GtVfBorBh"
   },
   "source": [
    "Now we plot the coeffictions of our algorithms and sklearn coefficients"
   ]
  },
  {
   "cell_type": "code",
   "execution_count": 30,
   "metadata": {
    "colab": {
     "base_uri": "https://localhost:8080/",
     "height": 575
    },
    "id": "8z24dw3unW5x",
    "outputId": "3f05a034-ec2d-4dff-ac32-a5aeac261293"
   },
   "outputs": [
    {
     "data": {
      "image/png": "[encoded data removed]",
      "text/plain": [
       "<Figure size 432x288 with 1 Axes>"
      ]
     },
     "metadata": {
      "needs_background": "light"
     },
     "output_type": "display_data"
    },
    {
     "data": {
      "image/png": "[encoded data removed]",
      "text/plain": [
       "<Figure size 432x288 with 1 Axes>"
      ]
     },
     "metadata": {
      "needs_background": "light"
     },
     "output_type": "display_data"
    }
   ],
   "source": [
    "beta_sklearn = svm_model.coef_[0]\n",
    "\n",
    "#EM algorithm\n",
    "plt.scatter(beta_EM, beta_sklearn, color = 'black')\n",
    "plt.xlabel('beta_EM')\n",
    "plt.ylabel('beta_sklearn')\n",
    "plt.title('beta_EM against beta_sklearn')\n",
    "plt.show()\n",
    "\n",
    "#ECME algorithm\n",
    "plt.scatter(beta_ECME, beta_sklearn, color = 'black')\n",
    "plt.xlabel('beta_ECME')\n",
    "plt.ylabel('beta_sklearn')\n",
    "plt.title('beta_ECME against beta_sklearn')\n",
    "plt.show()\n"
   ]
  }
 ],
 "metadata": {
  "colab": {
   "provenance": []
  },
  "kernelspec": {
   "display_name": "Python 3 (ipykernel)",
   "language": "python",
   "name": "python3"
  },
  "language_info": {
   "codemirror_mode": {
    "name": "ipython",
    "version": 3
   },
   "file_extension": ".py",
   "mimetype": "text/x-python",
   "name": "python",
   "nbconvert_exporter": "python",
   "pygments_lexer": "ipython3",
   "version": "3.9.7"
  }
 },
 "nbformat": 4,
 "nbformat_minor": 1
}
